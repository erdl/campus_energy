{
 "cells": [
  {
   "cell_type": "markdown",
   "id": "97ca79c4-bb49-4161-8ff3-354c45bb09ec",
   "metadata": {
    "tags": []
   },
   "source": [
    "## HECO Cooling Loop A - 1. Combine Data"
   ]
  },
  {
   "cell_type": "markdown",
   "id": "02cc912e-40c5-4a6d-a5fd-4feec72e2b72",
   "metadata": {},
   "source": [
    "#### <span style=\"color:red; font-weight:bold\"> Instructions for Using this Jupyter Notebook:</span>\n",
    "\n",
    "<span style=\"color:royalblue\">(1) Place **data_clean.py** and this Notebook in the same folder.</span>\n",
    "\n",
    "<span style=\"color:royalblue\">(2) Only need to modify the **Parameters in Section 1** to use this Notebook:</span> \n",
    "- Change the **Data Directories (dir)** to your own directories \n",
    "- Select a **Variable (var)** from **kw, kwh, tons, or tonhrs**"
   ]
  },
  {
   "cell_type": "markdown",
   "id": "8ed4d143-901b-4e0a-b028-c7591700e0d0",
   "metadata": {},
   "source": [
    "## Contents\n",
    "* [1. Input Parameters](#1)\n",
    "* [2. Imports](#2)  \n",
    "* [3. Load Data](#3)\n",
    "* [4. Preprocess Data (file saved)](#4)\n",
    "* [5. Combine Data (file saved)](#5)"
   ]
  },
  {
   "cell_type": "markdown",
   "id": "8217aee7-e7d7-49de-9944-448654be17cd",
   "metadata": {
    "tags": []
   },
   "source": [
    "### 1. Input Parameters<a id='1'></a>"
   ]
  },
  {
   "cell_type": "code",
   "execution_count": 1,
   "id": "d0e6b6fa-d131-4b2e-ad74-995ab3c1d85d",
   "metadata": {},
   "outputs": [],
   "source": [
    "########## CHANGE DATA DIRECTORIES & VARIABLE ##########\n",
    "\n",
    "# Data Directories\n",
    "p_dir = '../../data/downloads/'  # parent directory for downloaded data files\n",
    "input_dir = p_dir + '2024.11.21-2025.03.24' + '/'  # folder having the recently downloaded data\n",
    "\n",
    "temp_dir = p_dir + 'processed/'  # directory for preliminarily processed data\n",
    "\n",
    "output_dir = p_dir  # output directory for storing data to be used in later notebooks\n",
    "\n",
    "# Variable to specify the file name filter: kw, kwh, tons, tonhrs\n",
    "var = 'kwh'\n",
    "\n",
    "# Data Frequency\n",
    "freq = '15min'\n",
    "\n",
    "######################################################"
   ]
  },
  {
   "cell_type": "markdown",
   "id": "c64fc58f-4c25-4664-8ca4-afb2aed558f6",
   "metadata": {
    "tags": []
   },
   "source": [
    "### 2. Imports<a id='2'></a>"
   ]
  },
  {
   "cell_type": "code",
   "execution_count": 2,
   "id": "693afdec-64e7-4887-870d-2bbe0fd79695",
   "metadata": {},
   "outputs": [],
   "source": [
    "import os\n",
    "import pandas as pd\n",
    "from IPython.display import display, Markdown\n",
    "\n",
    "import data_clean as dc  # import self-defined module"
   ]
  },
  {
   "cell_type": "markdown",
   "id": "dc119cd5-563f-4315-bd30-2e56968e9a90",
   "metadata": {
    "tags": []
   },
   "source": [
    "### 3. Load Data<a id='3'></a>"
   ]
  },
  {
   "cell_type": "code",
   "execution_count": 3,
   "id": "76a1f079-20f8-4a1e-a18c-d184fcdb4d9b",
   "metadata": {
    "tags": []
   },
   "outputs": [
    {
     "name": "stdout",
     "output_type": "stream",
     "text": [
      "Number of 'kwh' files processed: 1\n",
      "Files loaded:\n",
      "../../data/downloads/2024.11.21-2025.03.24/vitality_export_kwh_recent.csv\n"
     ]
    }
   ],
   "source": [
    "data = dc.load_and_process_csv_files(input_dir, var)"
   ]
  },
  {
   "cell_type": "markdown",
   "id": "fb88fbd6-408d-4aa9-8a93-2e7ebbcaa2e4",
   "metadata": {
    "tags": []
   },
   "source": [
    "### 4. Preprocess Data<a id='4'></a>\n",
    "\n",
    "- If there are **multiple data files** (each containing different meter columns but sharing the same time range), first merge them into a single DataFrame.  \n",
    "- Then, preprocess the resulting DataFrame (or a single data file if only one) by filling in all timestamps."
   ]
  },
  {
   "cell_type": "code",
   "execution_count": 4,
   "id": "5c56bcfa-f144-4e10-b463-2e491999074e",
   "metadata": {},
   "outputs": [
    {
     "data": {
      "text/markdown": [
       "<span style='color:blue'>Table of Preprocessed Newly Downloaded Data (kwh):</span>"
      ],
      "text/plain": [
       "<IPython.core.display.Markdown object>"
      ]
     },
     "metadata": {},
     "output_type": "display_data"
    },
    {
     "data": {
      "text/html": [
       "<div>\n",
       "<style scoped>\n",
       "    .dataframe tbody tr th:only-of-type {\n",
       "        vertical-align: middle;\n",
       "    }\n",
       "\n",
       "    .dataframe tbody tr th {\n",
       "        vertical-align: top;\n",
       "    }\n",
       "\n",
       "    .dataframe thead th {\n",
       "        text-align: right;\n",
       "    }\n",
       "</style>\n",
       "<table border=\"1\" class=\"dataframe\">\n",
       "  <thead>\n",
       "    <tr style=\"text-align: right;\">\n",
       "      <th></th>\n",
       "      <th>datetime</th>\n",
       "      <th>hh_mtr_a</th>\n",
       "      <th>hh_mtr_b</th>\n",
       "      <th>sh_mtr_1</th>\n",
       "      <th>ab_mtr_1</th>\n",
       "      <th>hs_mtr_1</th>\n",
       "      <th>wh_mtr_1</th>\n",
       "      <th>ab_chwmtr_v1</th>\n",
       "      <th>hh_chwmtr_v2</th>\n",
       "      <th>wh_chwmtr_v1</th>\n",
       "    </tr>\n",
       "  </thead>\n",
       "  <tbody>\n",
       "    <tr>\n",
       "      <th>0</th>\n",
       "      <td>2024-11-21 00:00:00</td>\n",
       "      <td>215404.0</td>\n",
       "      <td>42412780.0</td>\n",
       "      <td>5665107.0</td>\n",
       "      <td>1943393.0</td>\n",
       "      <td>73968.0</td>\n",
       "      <td>14728077.0</td>\n",
       "      <td>2751195.54</td>\n",
       "      <td>24624349.47</td>\n",
       "      <td>900641.31</td>\n",
       "    </tr>\n",
       "    <tr>\n",
       "      <th>1</th>\n",
       "      <td>2024-11-21 00:15:00</td>\n",
       "      <td>215436.0</td>\n",
       "      <td>42412918.0</td>\n",
       "      <td>5665116.0</td>\n",
       "      <td>1943411.0</td>\n",
       "      <td>73969.0</td>\n",
       "      <td>14728126.0</td>\n",
       "      <td>2751196.74</td>\n",
       "      <td>24624466.47</td>\n",
       "      <td>900654.41</td>\n",
       "    </tr>\n",
       "    <tr>\n",
       "      <th>2</th>\n",
       "      <td>2024-11-21 00:30:00</td>\n",
       "      <td>215466.0</td>\n",
       "      <td>42413075.0</td>\n",
       "      <td>NaN</td>\n",
       "      <td>1943431.0</td>\n",
       "      <td>73971.0</td>\n",
       "      <td>14728175.0</td>\n",
       "      <td>2751197.64</td>\n",
       "      <td>24624557.67</td>\n",
       "      <td>900667.31</td>\n",
       "    </tr>\n",
       "  </tbody>\n",
       "</table>\n",
       "</div>"
      ],
      "text/plain": [
       "             datetime  hh_mtr_a    hh_mtr_b   sh_mtr_1   ab_mtr_1  hs_mtr_1  \\\n",
       "0 2024-11-21 00:00:00  215404.0  42412780.0  5665107.0  1943393.0   73968.0   \n",
       "1 2024-11-21 00:15:00  215436.0  42412918.0  5665116.0  1943411.0   73969.0   \n",
       "2 2024-11-21 00:30:00  215466.0  42413075.0        NaN  1943431.0   73971.0   \n",
       "\n",
       "     wh_mtr_1  ab_chwmtr_v1  hh_chwmtr_v2  wh_chwmtr_v1  \n",
       "0  14728077.0    2751195.54   24624349.47     900641.31  \n",
       "1  14728126.0    2751196.74   24624466.47     900654.41  \n",
       "2  14728175.0    2751197.64   24624557.67     900667.31  "
      ]
     },
     "execution_count": 4,
     "metadata": {},
     "output_type": "execute_result"
    }
   ],
   "source": [
    "df = dc.merge_multiple_dfs(data, freq)\n",
    "\n",
    "display(Markdown(f\"<span style='color:blue'>Table of Preprocessed Newly Downloaded Data ({var}):</span>\"))\n",
    "df.head(3)  # show the first three rows of the table"
   ]
  },
  {
   "cell_type": "markdown",
   "id": "1baeb819-bfc0-49b9-93a6-7342a1cf98ca",
   "metadata": {},
   "source": [
    "##### <span style=\"color:blue\">Save the preprocessed data into a csv file:</span>"
   ]
  },
  {
   "cell_type": "code",
   "execution_count": 5,
   "id": "af1bc814-337e-438f-8be8-45cc2b795dc2",
   "metadata": {},
   "outputs": [
    {
     "name": "stdout",
     "output_type": "stream",
     "text": [
      "Writing file: \"../../data/downloads/processed/vitality_export_kwh_2024-11-21_00-00-00_2025-03-24_23-45-00.csv\"\n"
     ]
    }
   ],
   "source": [
    "# Extract the min and max datetime\n",
    "min_datetime = df[\"datetime\"].min().strftime('%Y-%m-%d_%H-%M-%S')\n",
    "max_datetime = df[\"datetime\"].max().strftime('%Y-%m-%d_%H-%M-%S')\n",
    "\n",
    "# Create the file name with the variable\n",
    "file_name = f\"vitality_export_{var}_{min_datetime}_{max_datetime}.csv\"\n",
    "\n",
    "# Save file\n",
    "dc.save_file(df, file_name, temp_dir) "
   ]
  },
  {
   "cell_type": "markdown",
   "id": "b9f68753-c8df-4713-a032-38768b2cd5ec",
   "metadata": {
    "tags": []
   },
   "source": [
    "### 5. Combine Data<a id='5'></a>\n",
    "- Merge the newly downloaded data with the previously stored data"
   ]
  },
  {
   "cell_type": "code",
   "execution_count": 6,
   "id": "eee32bf1-c497-496f-9ed5-0aedfcf8d71c",
   "metadata": {},
   "outputs": [
    {
     "data": {
      "text/markdown": [
       "<span style='color:blue'>Table of Combined Data (kwh):</span>"
      ],
      "text/plain": [
       "<IPython.core.display.Markdown object>"
      ]
     },
     "metadata": {},
     "output_type": "display_data"
    },
    {
     "data": {
      "text/html": [
       "<div>\n",
       "<style scoped>\n",
       "    .dataframe tbody tr th:only-of-type {\n",
       "        vertical-align: middle;\n",
       "    }\n",
       "\n",
       "    .dataframe tbody tr th {\n",
       "        vertical-align: top;\n",
       "    }\n",
       "\n",
       "    .dataframe thead th {\n",
       "        text-align: right;\n",
       "    }\n",
       "</style>\n",
       "<table border=\"1\" class=\"dataframe\">\n",
       "  <thead>\n",
       "    <tr style=\"text-align: right;\">\n",
       "      <th></th>\n",
       "      <th>datetime</th>\n",
       "      <th>ab_chwmtr_v1</th>\n",
       "      <th>hh_chwmtr_v2</th>\n",
       "      <th>wh_chwmtr_v1</th>\n",
       "      <th>hh_mtr_a</th>\n",
       "      <th>hh_mtr_b</th>\n",
       "      <th>ab_mtr_1</th>\n",
       "      <th>wh_mtr_1</th>\n",
       "      <th>sh_mtr_1</th>\n",
       "      <th>hs_mtr_1</th>\n",
       "    </tr>\n",
       "  </thead>\n",
       "  <tbody>\n",
       "    <tr>\n",
       "      <th>130845</th>\n",
       "      <td>2025-03-24 23:15:00</td>\n",
       "      <td>2855790.04</td>\n",
       "      <td>25892367.49</td>\n",
       "      <td>1017735.42</td>\n",
       "      <td>335833.0</td>\n",
       "      <td>44246649.0</td>\n",
       "      <td>2327467.0</td>\n",
       "      <td>15263492.0</td>\n",
       "      <td>5812476.0</td>\n",
       "      <td>98388.0</td>\n",
       "    </tr>\n",
       "    <tr>\n",
       "      <th>130846</th>\n",
       "      <td>2025-03-24 23:30:00</td>\n",
       "      <td>2855791.24</td>\n",
       "      <td>25892464.39</td>\n",
       "      <td>1017736.32</td>\n",
       "      <td>335865.0</td>\n",
       "      <td>44246779.0</td>\n",
       "      <td>2327484.0</td>\n",
       "      <td>15263522.0</td>\n",
       "      <td>5812482.0</td>\n",
       "      <td>98390.0</td>\n",
       "    </tr>\n",
       "    <tr>\n",
       "      <th>130847</th>\n",
       "      <td>2025-03-24 23:45:00</td>\n",
       "      <td>2855792.74</td>\n",
       "      <td>25892570.69</td>\n",
       "      <td>1017737.22</td>\n",
       "      <td>335900.0</td>\n",
       "      <td>44246938.0</td>\n",
       "      <td>2327498.0</td>\n",
       "      <td>15263547.0</td>\n",
       "      <td>5812491.0</td>\n",
       "      <td>98391.0</td>\n",
       "    </tr>\n",
       "  </tbody>\n",
       "</table>\n",
       "</div>"
      ],
      "text/plain": [
       "                  datetime  ab_chwmtr_v1  hh_chwmtr_v2  wh_chwmtr_v1  \\\n",
       "130845 2025-03-24 23:15:00    2855790.04   25892367.49    1017735.42   \n",
       "130846 2025-03-24 23:30:00    2855791.24   25892464.39    1017736.32   \n",
       "130847 2025-03-24 23:45:00    2855792.74   25892570.69    1017737.22   \n",
       "\n",
       "        hh_mtr_a    hh_mtr_b   ab_mtr_1    wh_mtr_1   sh_mtr_1  hs_mtr_1  \n",
       "130845  335833.0  44246649.0  2327467.0  15263492.0  5812476.0   98388.0  \n",
       "130846  335865.0  44246779.0  2327484.0  15263522.0  5812482.0   98390.0  \n",
       "130847  335900.0  44246938.0  2327498.0  15263547.0  5812491.0   98391.0  "
      ]
     },
     "execution_count": 6,
     "metadata": {},
     "output_type": "execute_result"
    }
   ],
   "source": [
    "df_combined = dc.concat_dfs(temp_dir, var)\n",
    "\n",
    "display(Markdown(f\"<span style='color:blue'>Table of Combined Data ({var}):</span>\"))\n",
    "df_combined.tail(3)  # show the last three rows of the table"
   ]
  },
  {
   "cell_type": "markdown",
   "id": "686b2004-33ff-49da-9963-36e9d459b806",
   "metadata": {},
   "source": [
    "##### <span style=\"color:blue\">Save the combined data into a csv file:</span>"
   ]
  },
  {
   "cell_type": "code",
   "execution_count": 7,
   "id": "6b5d7b04-c588-4cf5-a888-c79c0aa3ecf3",
   "metadata": {},
   "outputs": [
    {
     "name": "stdout",
     "output_type": "stream",
     "text": [
      "Writing file: \"../../data/downloads/vitality_export_kwh_2021-07-01_00-00-00_2025-03-24_23-45-00.csv\"\n"
     ]
    }
   ],
   "source": [
    "\n",
    "# Extract the min and max datetime\n",
    "min_datetime_c = df_combined[\"datetime\"].min().strftime('%Y-%m-%d_%H-%M-%S')\n",
    "max_datetime_c = df_combined[\"datetime\"].max().strftime('%Y-%m-%d_%H-%M-%S')\n",
    "\n",
    "# Create the file name with the variable\n",
    "file_name_c = f\"vitality_export_{var}_{min_datetime_c}_{max_datetime_c}.csv\"\n",
    "\n",
    "# Save file\n",
    "dc.save_file(df_combined, file_name_c, output_dir) "
   ]
  }
 ],
 "metadata": {
  "kernelspec": {
   "display_name": "Python 3 (ipykernel)",
   "language": "python",
   "name": "python3"
  },
  "language_info": {
   "codemirror_mode": {
    "name": "ipython",
    "version": 3
   },
   "file_extension": ".py",
   "mimetype": "text/x-python",
   "name": "python",
   "nbconvert_exporter": "python",
   "pygments_lexer": "ipython3",
   "version": "3.9.13"
  }
 },
 "nbformat": 4,
 "nbformat_minor": 5
}
